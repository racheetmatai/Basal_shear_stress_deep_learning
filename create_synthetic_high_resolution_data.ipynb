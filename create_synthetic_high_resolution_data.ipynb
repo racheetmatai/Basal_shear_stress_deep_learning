{
 "cells": [
  {
   "cell_type": "code",
   "execution_count": 1,
   "id": "f538b879",
   "metadata": {},
   "outputs": [
    {
     "name": "stderr",
     "output_type": "stream",
     "text": [
      "2025-10-08 06:15:28.652470: I tensorflow/core/platform/cpu_feature_guard.cc:193] This TensorFlow binary is optimized with oneAPI Deep Neural Network Library (oneDNN) to use the following CPU instructions in performance-critical operations:  AVX2 AVX_VNNI FMA\n",
      "To enable them in other operations, rebuild TensorFlow with the appropriate compiler flags.\n",
      "2025-10-08 06:15:28.766891: I tensorflow/core/util/util.cc:169] oneDNN custom operations are on. You may see slightly different numerical results due to floating-point round-off errors from different computation orders. To turn them off, set the environment variable `TF_ENABLE_ONEDNN_OPTS=0`.\n",
      "2025-10-08 06:15:28.774993: W tensorflow/stream_executor/platform/default/dso_loader.cc:64] Could not load dynamic library 'libcudart.so.11.0'; dlerror: libcudart.so.11.0: cannot open shared object file: No such file or directory\n",
      "2025-10-08 06:15:28.775018: I tensorflow/stream_executor/cuda/cudart_stub.cc:29] Ignore above cudart dlerror if you do not have a GPU set up on your machine.\n",
      "2025-10-08 06:15:28.793971: E tensorflow/stream_executor/cuda/cuda_blas.cc:2981] Unable to register cuBLAS factory: Attempting to register factory for plugin cuBLAS when one has already been registered\n",
      "2025-10-08 06:15:29.395367: W tensorflow/stream_executor/platform/default/dso_loader.cc:64] Could not load dynamic library 'libnvinfer.so.7'; dlerror: libnvinfer.so.7: cannot open shared object file: No such file or directory\n",
      "2025-10-08 06:15:29.395604: W tensorflow/stream_executor/platform/default/dso_loader.cc:64] Could not load dynamic library 'libnvinfer_plugin.so.7'; dlerror: libnvinfer_plugin.so.7: cannot open shared object file: No such file or directory\n",
      "2025-10-08 06:15:29.395617: W tensorflow/compiler/tf2tensorrt/utils/py_utils.cc:38] TF-TRT Warning: Cannot dlopen some TensorRT libraries. If you would like to use Nvidia GPU with TensorRT, please make sure the missing libraries mentioned above are installed properly.\n"
     ]
    }
   ],
   "source": [
    "from src.helper_functions import run_synthetic_high_res, create_dataset, create_dataset_parallel"
   ]
  },
  {
   "cell_type": "code",
   "execution_count": null,
   "id": "13937db1",
   "metadata": {},
   "outputs": [
    {
     "name": "stdout",
     "output_type": "stream",
     "text": [
      "Creating sample 1 of 2\n"
     ]
    },
    {
     "name": "stderr",
     "output_type": "stream",
     "text": [
      "2025-10-08 06:15:31.626101: W tensorflow/stream_executor/platform/default/dso_loader.cc:64] Could not load dynamic library 'libcuda.so.1'; dlerror: libcuda.so.1: cannot open shared object file: No such file or directory\n",
      "2025-10-08 06:15:31.626144: W tensorflow/stream_executor/cuda/cuda_driver.cc:263] failed call to cuInit: UNKNOWN ERROR (303)\n",
      "2025-10-08 06:15:31.626163: I tensorflow/stream_executor/cuda/cuda_diagnostics.cc:156] kernel driver does not appear to be running on this host (0dd80619efc8): /proc/driver/nvidia/version does not exist\n",
      "2025-10-08 06:15:31.626395: I tensorflow/core/platform/cpu_feature_guard.cc:193] This TensorFlow binary is optimized with oneAPI Deep Neural Network Library (oneDNN) to use the following CPU instructions in performance-critical operations:  AVX2 AVX_VNNI FMA\n",
      "To enable them in other operations, rebuild TensorFlow with the appropriate compiler flags.\n"
     ]
    },
    {
     "name": "stdout",
     "output_type": "stream",
     "text": [
      "WARNING:tensorflow:No training configuration found in save file, so the model was *not* compiled. Compile it manually.\n",
      "WARNING:tensorflow:No training configuration found in save file, so the model was *not* compiled. Compile it manually.\n",
      "Loaded encoder from vae/encoder_model, decoder from vae/decoder_model, percentiles from vae/latent_percentiles.pkl\n",
      "1/1 [==============================] - 0s 203ms/step\n",
      "GeoJSON with 4 bounding box lines written to generated_data/boundary_14289.geojson\n",
      "Using default filename: generated_data/boundary_14289.geojson\n",
      "Reading local outline\n",
      "Using starting thickness: 2381 m\n",
      "Using surface slope: -23\n",
      "Creating sample 2 of 2\n",
      "WARNING:tensorflow:No training configuration found in save file, so the model was *not* compiled. Compile it manually.\n",
      "WARNING:tensorflow:No training configuration found in save file, so the model was *not* compiled. Compile it manually.\n",
      "Loaded encoder from vae/encoder_model, decoder from vae/decoder_model, percentiles from vae/latent_percentiles.pkl\n",
      "1/1 [==============================] - 0s 129ms/step\n",
      "GeoJSON with 4 bounding box lines written to generated_data/boundary_25662.geojson\n",
      "Using default filename: generated_data/boundary_25662.geojson\n",
      "Reading local outline\n",
      "Using starting thickness: 1882 m\n",
      "Using surface slope: -50\n",
      "Dataset creation complete. Parameters saved to 'output_data/synthetic_ice_flow_parameters_test.csv'.\n"
     ]
    }
   ],
   "source": [
    "df = create_dataset(n_samples=2000, dataset_name='synthetic_ice_flow_parameters_test.csv')"
   ]
  },
  {
   "cell_type": "code",
   "execution_count": 4,
   "id": "47584705",
   "metadata": {},
   "outputs": [
    {
     "data": {
      "text/plain": [
       "Index(['Thickness (m)', 'Surface Slope (m)', 'Inflow Velocity (m/a)',\n",
       "       'Temperature (K)', 'C (Pa m^(1/3) a^(1/3))', 'Total Form Drag (Pa)',\n",
       "       'Shear Stress (Pa)', 'RMS Roughness (m)', 'Slope Roughness',\n",
       "       'x-Mean Velocity (m/a)', 'y-Mean Velocity (m/a)', 'latent_0',\n",
       "       'latent_1', 'latent_2', 'latent_3', 'latent_4', 'latent_5', 'latent_6',\n",
       "       'latent_7', 'latent_8', 'latent_9', 'latent_10', 'latent_11',\n",
       "       'latent_12', 'latent_13', 'latent_14', 'latent_15'],\n",
       "      dtype='object')"
      ]
     },
     "execution_count": 4,
     "metadata": {},
     "output_type": "execute_result"
    }
   ],
   "source": [
    "df.columns"
   ]
  }
 ],
 "metadata": {
  "kernelspec": {
   "display_name": "firedrake",
   "language": "python",
   "name": "python3"
  },
  "language_info": {
   "codemirror_mode": {
    "name": "ipython",
    "version": 3
   },
   "file_extension": ".py",
   "mimetype": "text/x-python",
   "name": "python",
   "nbconvert_exporter": "python",
   "pygments_lexer": "ipython3",
   "version": "3.10.12"
  }
 },
 "nbformat": 4,
 "nbformat_minor": 5
}
